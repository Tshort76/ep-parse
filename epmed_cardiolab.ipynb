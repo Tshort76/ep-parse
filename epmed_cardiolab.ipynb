{
    "cells": [
        {
            "attachments": {},
            "cell_type": "markdown",
            "metadata": {},
            "source": [
                "# Notebook Setup"
            ]
        },
        {
            "cell_type": "code",
            "execution_count": null,
            "metadata": {},
            "outputs": [],
            "source": [
                "import os\n",
                "from dotenv import load_dotenv\n",
                "\n",
                "import ep_parse.core as core\n",
                "import ep_parse.case_data as d\n",
                "import ep_parse.utils as u\n",
                "import ep_parse.nb_utils.signal_display as sd\n",
                "\n",
                "load_dotenv()\n",
                "u.configure_logging()\n",
                "\n",
                "%load_ext autoreload\n",
                "%autoreload 2\n",
                "\n",
                "case_id = \"CASE002\""
            ]
        },
        {
            "cell_type": "markdown",
            "metadata": {},
            "source": [
                "## Initialize Case and view exported signal coverage"
            ]
        },
        {
            "cell_type": "code",
            "execution_count": null,
            "metadata": {},
            "outputs": [],
            "source": [
                "# create a meta file for storing case properties\n",
                "d.create_case_meta(case_id)\n",
                "\n",
                "# view time intervals for which signal data is present (per channel)\n",
                "core.plot_raw_data_coverage(case_id)"
            ]
        },
        {
            "cell_type": "markdown",
            "metadata": {},
            "source": [
                "# Clean Files exported from EPMED\n",
                "Warning - Destructive Operations - be sure to backup your raw export files"
            ]
        },
        {
            "cell_type": "code",
            "execution_count": null,
            "metadata": {},
            "outputs": [],
            "source": [
                "import ep_parse.epmed.file_cleanup as cln\n",
                "\n",
                "# CASE_BIN_DIRECTORY = f\"data/{case_id}/epmed\"  # custom path\n",
                "CASE_BIN_DIRECTORY = d.case_file_path(case_id, d.DataSource.EPMED)  # standard path"
            ]
        },
        {
            "cell_type": "code",
            "execution_count": null,
            "metadata": {},
            "outputs": [],
            "source": [
                "# Rename BIN files to remove inconsistent spaces and capitalization\n",
                "cln.rename_BINS(CASE_BIN_DIRECTORY, False)"
            ]
        },
        {
            "cell_type": "code",
            "execution_count": null,
            "metadata": {},
            "outputs": [],
            "source": [
                "# Remove redundant Page files (just reduce storage size for these raw files)\n",
                "cln.remove_extra_page_files(CASE_BIN_DIRECTORY, qa_check=False)"
            ]
        },
        {
            "cell_type": "code",
            "execution_count": null,
            "metadata": {},
            "outputs": [],
            "source": [
                "# Remove data TXT files\n",
                "cln.remove_TXT_datafiles(CASE_BIN_DIRECTORY, True)"
            ]
        },
        {
            "cell_type": "code",
            "execution_count": null,
            "metadata": {},
            "outputs": [],
            "source": [
                "# Remove name row from session text files ... if applicable\n",
                "cln.remove_pii(CASE_BIN_DIRECTORY, case_id)"
            ]
        },
        {
            "cell_type": "code",
            "execution_count": null,
            "metadata": {},
            "outputs": [],
            "source": [
                "### Remove duplicate overlapping exports\n",
                "to_remove = cln.check_partial_export(CASE_BIN_DIRECTORY, assert_if=False)\n",
                "for f in to_remove:\n",
                "    os.remove(os.path.join(CASE_BIN_DIRECTORY, f))"
            ]
        },
        {
            "attachments": {},
            "cell_type": "markdown",
            "metadata": {},
            "source": [
                "# Write Formatted Data Files"
            ]
        },
        {
            "attachments": {},
            "cell_type": "markdown",
            "metadata": {},
            "source": [
                "## Write Signal Data file"
            ]
        },
        {
            "cell_type": "markdown",
            "metadata": {},
            "source": [
                "Clean and transform signal data that was exported from the research center's epsystem and write it to a `signals.h5` file.<br>\n",
                "**Prereqs**\n",
                "- Exported signal data conforms to the standardized layout (see README) and is located in a folder named by the case_id (e.g. folder name is `CASE001`) in the `os.environ.get(\"data_filepath\")` directory.\n",
                "\n",
                "\n",
                "**Output**\n",
                "- An h5 file (`{case_id}_signals.h5`) file in the case's root directory."
            ]
        },
        {
            "cell_type": "code",
            "execution_count": null,
            "metadata": {},
            "outputs": [],
            "source": [
                "to_import = {\"events\", \"signals\"}  # subset of {\"signals\", \"events\"} specifying which data to parse (events = bookmarks log file)\n",
                "### End Configs\n",
                "\n",
                "core.format_and_store_case_export(case_id, only=to_import, compress=False)\n",
                "d.store_pps_in_meta(case_id)"
            ]
        },
        {
            "attachments": {},
            "cell_type": "markdown",
            "metadata": {},
            "source": [
                "## Plot signals"
            ]
        },
        {
            "cell_type": "markdown",
            "metadata": {},
            "source": [
                "### By RF"
            ]
        },
        {
            "cell_type": "code",
            "execution_count": null,
            "metadata": {},
            "outputs": [],
            "source": [
                "rfs = \"5,10\"  # format is \"1,2,3,4-6,12\"\n",
                "\n",
                "rf_configs = {\n",
                "    \"width\": 40,  # set plot width\n",
                "    \"height\": 10,  # adjust plot height\n",
                "    \"prepend_seconds\": 4,\n",
                "    \"append_seconds\": 4,\n",
                "    \"y_scale\": 2,  # adjust the spacing of traces within a plot\n",
                "    \"suppress_channels\": [],  # list channels which should not appear in the plot\n",
                "    \"prepend_seconds\": 6,\n",
                "    \"append_seconds\": 2,\n",
                "}\n",
                "\n",
                "_ = sd.simple_signals_plot(case_id, \"RF\", rfs, rf_configs)"
            ]
        },
        {
            "cell_type": "markdown",
            "metadata": {},
            "source": [
                "### By Time"
            ]
        },
        {
            "cell_type": "code",
            "execution_count": null,
            "metadata": {},
            "outputs": [],
            "source": [
                "start_times = \"15:45:10|after|20|8\"  # \"11:20:01, 11:22:12|before|12|2, 11:33:13|after|20|4\"\n",
                "\n",
                "time_configs = {\n",
                "    \"width\": 40,  # set plot width\n",
                "    \"height\": 10,  # adjust plot height\n",
                "    \"prepend_seconds\": 4,\n",
                "    \"append_seconds\": 4,\n",
                "    \"y_scale\": 2,  # adjust the spacing of traces within a plot\n",
                "    \"suppress_channels\": [],  # list channels which should not appear in the plot\n",
                "    \"prepend_seconds\": 8,\n",
                "    \"append_seconds\": 0,\n",
                "}\n",
                "\n",
                "_ = sd.simple_signals_plot(case_id, \"TIME\", start_times, time_configs)"
            ]
        },
        {
            "cell_type": "markdown",
            "metadata": {},
            "source": [
                "## Generate bookmarks file for Medtronic catheter\n",
                "Occassionally catheters will be used that records RF times in a single file per RF format.  These cells are used to convert that data export structure into a standard bookmarks.txt file"
            ]
        },
        {
            "cell_type": "markdown",
            "metadata": {},
            "source": [
                "### Store md catheter time offset for the case"
            ]
        },
        {
            "cell_type": "code",
            "execution_count": null,
            "metadata": {},
            "outputs": [],
            "source": [
                "epmed_time = \"12:00:00.000\"  # \"12:00:00.000\" format\n",
                "md_cath_time = \"12:00:00.000\"  # time in md system corresponding to epmed_time above\n",
                "FORCE = False  # override the value from the case meta file\n",
                "\n",
                "#### End Configs\n",
                "\n",
                "offset = core.store_md_cath_offset(case_id, epmed_time, md_cath_time, force=FORCE)"
            ]
        },
        {
            "cell_type": "markdown",
            "metadata": {},
            "source": [
                "### Create bookmarks file from modified Lesion file"
            ]
        },
        {
            "cell_type": "code",
            "execution_count": null,
            "metadata": {},
            "outputs": [],
            "source": [
                "core.md_catheter_logs_as_bookmark_file(case_id)\n",
                "core.load_events(case_id, outputs=['ep_system_events'])"
            ]
        },
        {
            "cell_type": "markdown",
            "metadata": {},
            "source": [
                "# Bandwidth Filtering"
            ]
        },
        {
            "cell_type": "code",
            "execution_count": null,
            "metadata": {},
            "outputs": [],
            "source": [
                "import ep_parse.bandwidth_filter as bwf\n",
                "import ep_parse.signal_nav as sn\n",
                "\n",
                "# Assess a random chunk at RF 2 to see if there is bandwidth noise\n",
                "# omni_sig = sn.lookup_by_rf(bookmark_df, 2, 2, case_id=case_id, channels=case_meta[\"channels\"])\n",
                "signals_df = sn.lookup_by_time(\"15:48:30\", case_id=case_id, channels=[\"I\", \"CS_1-2\"])\n",
                "bwf.plot_fourier_xform(signals_df, [\"I\", \"CS_1-2\"])"
            ]
        },
        {
            "cell_type": "code",
            "execution_count": null,
            "metadata": {},
            "outputs": [],
            "source": [
                "# Based on the plots above, determine the noisy channels and notch frequency \n",
                "# ['I','II','III','aVL','aVR','aVF','V1', 'CS_1-2', 'CS_3-4', 'CS_5-6', 'CS_7-8', 'CS_9-10', 'ABLd', 'ABLp']\n",
                "noisy_channels = ['I']\n",
                "notch_frequency = 60.0  # Frequency to be removed from signal (Hz) - Determine this with Fourier logic above (peaks)\n",
                "quality_factor = 30.0\n",
                "\n",
                "# plot the channels after denoising to validate the process\n",
                "for ch in noisy_channels:\n",
                "    bwf.plot_denoised(signals_df[ch], notch_frequency, quality_factor, title_prefix=ch)"
            ]
        },
        {
            "cell_type": "code",
            "execution_count": null,
            "metadata": {},
            "outputs": [],
            "source": [
                "# Write the new BIN files to a local directory\n",
                "_bins = set(bwf.write_denoised_bins(case_id, noisy_channels, notch_frequency, quality_factor))"
            ]
        },
        {
            "cell_type": "code",
            "execution_count": null,
            "metadata": {},
            "outputs": [],
            "source": [
                "# Replace the noisy BIN files with the denoised files (DESTRUCTIVE!!!)\n",
                "import shutil\n",
                "for f in _bins:\n",
                "    dest = shutil.move(f\"local/{f}\", d.case_file_path(case_id, d.DataSource.EPMED))"
            ]
        }
    ],
    "metadata": {
        "kernelspec": {
            "display_name": "Python 3.10.1 ('.venv': venv)",
            "language": "python",
            "name": "python3"
        },
        "language_info": {
            "codemirror_mode": {
                "name": "ipython",
                "version": 3
            },
            "file_extension": ".py",
            "mimetype": "text/x-python",
            "name": "python",
            "nbconvert_exporter": "python",
            "pygments_lexer": "ipython3",
            "version": "3.12.3"
        },
        "vscode": {
            "interpreter": {
                "hash": "629ad31e2472c2313d656605151452599ba0f71480df21ac6b89d5fc91a6a977"
            }
        }
    },
    "nbformat": 4,
    "nbformat_minor": 2
}
