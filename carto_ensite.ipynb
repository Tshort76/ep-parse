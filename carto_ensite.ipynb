{
 "cells": [
  {
   "cell_type": "markdown",
   "metadata": {},
   "source": [
    "# Setup"
   ]
  },
  {
   "cell_type": "code",
   "execution_count": null,
   "metadata": {},
   "outputs": [],
   "source": [
    "import os\n",
    "from dotenv import load_dotenv\n",
    "\n",
    "if os.getcwd().endswith('notebooks'):\n",
    "    %cd -q ..\n",
    "\n",
    "import ep_parse.core as core\n",
    "import ep_parse.case_data as cdata\n",
    "import ep_parse.utils as pu\n",
    "\n",
    "load_dotenv()\n",
    "pu.configure_logging()\n",
    "\n",
    "%load_ext autoreload\n",
    "%autoreload 2\n",
    "\n",
    "case_id = \"CASE002\""
   ]
  },
  {
   "cell_type": "markdown",
   "metadata": {},
   "source": [
    "# Load from Ensite export\n",
    "Create the heart geometries as well as MAP and RF tags from the Ensite export (and from medtronic bookmark file, if needed)"
   ]
  },
  {
   "cell_type": "markdown",
   "metadata": {},
   "source": [
    "## Store epmed/ensite offset"
   ]
  },
  {
   "cell_type": "code",
   "execution_count": null,
   "metadata": {},
   "outputs": [],
   "source": [
    "# Attempt to infer epmed/ensite offset\n",
    "\n",
    "offset = core.infer_map_system_offset(case_id)\n",
    "\n",
    "if offset:\n",
    "    print(f\"Added an offset of {offset} to the meta file for {case_id}.  Skip the cell below!\")\n",
    "else:\n",
    "    print(\"Unable to infer an epmed/ensite offset.  Use the cell below to set manually\")"
   ]
  },
  {
   "cell_type": "markdown",
   "metadata": {},
   "source": [
    "### Set offset manually if inference failed above"
   ]
  },
  {
   "cell_type": "code",
   "execution_count": null,
   "metadata": {},
   "outputs": [],
   "source": [
    "epmed_time = \"12:00:00.000\"  # \"12:00:00.000\" format\n",
    "ensite_time = \"12:00:00.100\"  # time in ensite system corresponding to epmed_time above\n",
    "FORCE = False   # use to override an existing value in the case meta file\n",
    "\n",
    "#### End Configs\n",
    "\n",
    "offset = core.store_ensite_offset(case_id, epmed_time, ensite_time, force=FORCE)"
   ]
  },
  {
   "cell_type": "markdown",
   "metadata": {},
   "source": [
    "## Generate the geometry and tag files"
   ]
  },
  {
   "cell_type": "code",
   "execution_count": null,
   "metadata": {},
   "outputs": [],
   "source": [
    "parse_types = [\"geometry\", \"RF\", \"MAP\"]  # subset of [\"geometry\", \"RF\", \"MAP\"]\n",
    "#### End Configs\n",
    "\n",
    "core.generate_tags_from_ensite(case_id, parse_types)"
   ]
  },
  {
   "cell_type": "markdown",
   "metadata": {},
   "source": [
    "### Filter MAP tags by duration"
   ]
  },
  {
   "cell_type": "code",
   "execution_count": null,
   "metadata": {},
   "outputs": [],
   "source": [
    "min_duration = 1.4  # seconds\n",
    "#### End Configs\n",
    "\n",
    "from datetime import timedelta\n",
    "tags = cdata.load_case_tags(case_id)\n",
    "new_tags = [t for t in tags if not t['label'].startswith(\"MAP\") or (pu.as_datetime(t['end_time']) - pu.as_datetime(t['start_time'])) > timedelta(seconds=min_duration)]\n",
    "print(f\"Removed {len(tags) - len(new_tags)} tags\")\n",
    "cdata.write_case_tags(case_id, new_tags)"
   ]
  },
  {
   "cell_type": "markdown",
   "metadata": {},
   "source": [
    "### Filter MAP tags to those with signal data"
   ]
  },
  {
   "cell_type": "code",
   "execution_count": null,
   "metadata": {},
   "outputs": [],
   "source": [
    "tags = cdata.load_case_tags(case_id)\n",
    "channels_with_data = cdata.case_channels(case_id)\n",
    "new_tags = [t for t in tags if not t['label'].startswith(\"MAP\") or set(t.get(\"channels\", {}).keys()).intersection(channels_with_data)]\n",
    "to_remove = set([t[\"catheter\"] for t in tags if t['label'].startswith(\"MAP\") and not len(set(t.get(\"channels\", {}).keys()).intersection(channels_with_data))])\n",
    "print(f\"Removed {len(tags) - len(new_tags)} tags for catheters {to_remove}\")\n",
    "cdata.write_case_tags(case_id, new_tags)"
   ]
  },
  {
   "cell_type": "markdown",
   "metadata": {},
   "source": [
    "# Load from CARTO export\n",
    "Create the heart geometries as well as MAP and RF tags from the CARTO export"
   ]
  },
  {
   "cell_type": "code",
   "execution_count": null,
   "metadata": {},
   "outputs": [],
   "source": [
    "parse_types = [\"geometry\", \"RF\", \"MAP\"]  # subset of [\"geometry\", \"RF\", \"MAP\"]\n",
    "parse_opts = {\n",
    "    \"min_points_per_MAP\": 2,  # if > 1, results are grouped by stability\n",
    "}\n",
    "#### End Configs\n",
    "\n",
    "core.generate_tags_from_carto(case_id, parse_types, parse_opts)\n"
   ]
  },
  {
   "cell_type": "markdown",
   "metadata": {},
   "source": [
    "## Adjust Carto Tag Times"
   ]
  },
  {
   "cell_type": "code",
   "execution_count": null,
   "metadata": {},
   "outputs": [],
   "source": [
    "seconds_to_add = 1.5   # e.g.  -1.25, 2, 5.62352\n",
    "\n",
    "##### End Configs\n",
    "\n",
    "import ep_parse.nb_utils.tag_adjustment as tga\n",
    "tga.add_seconds_to_tags(case_id, seconds_to_add)"
   ]
  },
  {
   "cell_type": "markdown",
   "metadata": {},
   "source": [
    "# Display parsed Heart Models and Tags"
   ]
  },
  {
   "cell_type": "code",
   "execution_count": null,
   "metadata": {},
   "outputs": [],
   "source": [
    "from ep_parse.plots.model3d_plots import plot_heart\n",
    "\n",
    "vtk_mesh_path = f\"data/{case_id}/{case_id}_LA_and_RA.vtk\"\n",
    "\n",
    "configs = {\n",
    "    \"mesh_color\": \"#f8f3f3\",\n",
    "    \"mesh_opacity\": 0.9,\n",
    "    \"background_color\": \"#3f3f3f\",\n",
    "    # \"rf_tag_color\": \"\",\n",
    "    # \"map_tag_color\": \"\",\n",
    "    # \"misc_tag_color\": \"\"\n",
    "\n",
    "}\n",
    "\n",
    "plot_heart(case_id, vtk_mesh_path, **configs)"
   ]
  },
  {
   "cell_type": "code",
   "execution_count": null,
   "metadata": {},
   "outputs": [],
   "source": []
  }
 ],
 "metadata": {
  "kernelspec": {
   "display_name": ".venv",
   "language": "python",
   "name": "python3"
  },
  "language_info": {
   "codemirror_mode": {
    "name": "ipython",
    "version": 3
   },
   "file_extension": ".py",
   "mimetype": "text/x-python",
   "name": "python",
   "nbconvert_exporter": "python",
   "pygments_lexer": "ipython3",
   "version": "3.12.3"
  }
 },
 "nbformat": 4,
 "nbformat_minor": 2
}
