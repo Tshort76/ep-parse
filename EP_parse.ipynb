{
    "cells": [
        {
            "attachments": {},
            "cell_type": "markdown",
            "metadata": {},
            "source": [
                "# Notebook Setup"
            ]
        },
        {
            "cell_type": "code",
            "execution_count": null,
            "metadata": {},
            "outputs": [],
            "source": [
                "import os\n",
                "from dotenv import load_dotenv\n",
                "\n",
                "import ep_parse.core as core\n",
                "import ep_parse.case_data as cdata\n",
                "import ep_parse.nb_utils.click_registering as crg\n",
                "import ep_parse.utils as pu\n",
                "import ep_parse.nb_utils.signal_display as sd\n",
                "import ep_parse.nb_utils.common as nbu\n",
                "\n",
                "load_dotenv()\n",
                "pu.configure_logging()\n",
                "\n",
                "%load_ext autoreload\n",
                "%autoreload 2\n",
                "\n",
                "case_id = \"CASE001\""
            ]
        },
        {
            "cell_type": "markdown",
            "metadata": {},
            "source": [
                "# Clean Export Files from the EPMED system\n",
                "Warning - Destructive Operations ... be sure to backup your raw exports"
            ]
        },
        {
            "cell_type": "code",
            "execution_count": null,
            "metadata": {},
            "outputs": [],
            "source": [
                "import ep_parse.epmed.file_cleanup as cln\n",
                "\n",
                "CASE_BIN_DIRECTORY = f\"data/{case_id}/epmed\""
            ]
        },
        {
            "cell_type": "code",
            "execution_count": null,
            "metadata": {},
            "outputs": [],
            "source": [
                "# Rename BIN files to remove inconsistent spaces and capitalization\n",
                "cln.rename_BINS(CASE_BIN_DIRECTORY, False)"
            ]
        },
        {
            "cell_type": "code",
            "execution_count": null,
            "metadata": {},
            "outputs": [],
            "source": [
                "# Remove redundant Page files (just reduce storage size for these raw files)\n",
                "cln.remove_extra_page_files(CASE_BIN_DIRECTORY, qa_check=False)"
            ]
        },
        {
            "cell_type": "code",
            "execution_count": null,
            "metadata": {},
            "outputs": [],
            "source": [
                "# Remove data TXT files\n",
                "cln.remove_TXT_datafiles(CASE_BIN_DIRECTORY, True)"
            ]
        },
        {
            "cell_type": "code",
            "execution_count": null,
            "metadata": {},
            "outputs": [],
            "source": [
                "# Remove name row from session text files ... if applicable\n",
                "cln.remove_pii(CASE_BIN_DIRECTORY, case_id)"
            ]
        },
        {
            "cell_type": "code",
            "execution_count": null,
            "metadata": {},
            "outputs": [],
            "source": [
                "### Remove duplicate overlapping exports\n",
                "to_remove = cln.check_partial_export(CASE_BIN_DIRECTORY, assert_if=False)\n",
                "for f in to_remove:\n",
                "    os.remove(os.path.join(CASE_BIN_DIRECTORY, f))"
            ]
        },
        {
            "attachments": {},
            "cell_type": "markdown",
            "metadata": {},
            "source": [
                "# P1 Import Data Into System"
            ]
        },
        {
            "attachments": {},
            "cell_type": "markdown",
            "metadata": {},
            "source": [
                "## P1.0 Create Meta and Events files and view Data Coverage"
            ]
        },
        {
            "cell_type": "code",
            "execution_count": null,
            "metadata": {},
            "outputs": [],
            "source": [
                "cdata.create_case_meta(case_id)"
            ]
        },
        {
            "cell_type": "code",
            "execution_count": null,
            "metadata": {},
            "outputs": [],
            "source": [
                "core.plot_raw_data_coverage(case_id)"
            ]
        },
        {
            "attachments": {},
            "cell_type": "markdown",
            "metadata": {},
            "source": [
                "## P1.1 Load Signal Data into System\n",
                "Clean and transform signal data that was exported from the research center's epsystem and write it to a `signals.h5` file.<br>\n",
                "**Prereqs**\n",
                "- Exported signal data conforms to the standardized layout (see README) and is located in a folder named by the case_id (e.g. folder name is `CASE001`) in the `os.environ.get(\"data_filepath\")` directory.\n",
                "\n",
                "\n",
                "**Output**\n",
                "- An h5 file (`{case_id}_signals.h5`) file in the case's root directory."
            ]
        },
        {
            "cell_type": "code",
            "execution_count": null,
            "metadata": {},
            "outputs": [],
            "source": [
                "to_import = {\"events\", \"signals\"}  # subset of {\"signals\", \"events\"} specifying which data to parse (events = bookmarks log file)\n",
                "### End Configs\n",
                "\n",
                "core.format_and_store_case_export(case_id, only=to_import, compress=False)\n",
                "cdata.store_pps_in_meta(case_id)"
            ]
        },
        {
            "attachments": {},
            "cell_type": "markdown",
            "metadata": {},
            "source": [
                "### P1.1.2 Plot undecorated signals"
            ]
        },
        {
            "attachments": {},
            "cell_type": "markdown",
            "metadata": {},
            "source": [
                "#### P1.1.2.1 Plot by RF"
            ]
        },
        {
            "cell_type": "code",
            "execution_count": null,
            "metadata": {},
            "outputs": [],
            "source": [
                "rfs = \"5\" #,15,25,35\"   # \"\" -> all RFs, otherwise format is \"1,2,3,4-6,12\"\n",
                "\n",
                "plot_configs = {\n",
                "    \"width\": 40,  # set plot width\n",
                "    \"height\": 10,      # adjust plot height\n",
                "    \"prepend_seconds\": 6,\n",
                "    \"append_seconds\": 2,\n",
                "    \"y_scale\": 2,     # adjust the spacing of traces within a plot\n",
                "    \"suppress_channels\": [],  # list channels which should not appear in the plot\n",
                "}\n",
                "# 'V2','V3','V4','V5','V6'\n",
                "# 'CS_9-10','CS_7-8','CS_5-6','CS_3-4','CS_1-2','PA_1-2','PA_3-4','PB_5-6','PB_7-8','PC_9-10','PC_11-12','PD_13-14','PD_15-16','PE_17-18','PE_19-20'\n",
                "# 'HRA_9-10','HRA_7-8','HRA_5-6','HRA_3-4','HRA_1-2'\n",
                "# 'PA_1-2','PA_3-4','PB_5-6','PB_7-8','PC_9-10','PC_11-12','PD_13-14','PD_15-16','PE_17-18','PE_19-20'\n",
                "# 'A1-A2','A2-A3','A3-A4','B1-B2','B2-B3','B3-B4','C1-C2','C2-C3','C3-C4','D1-D2','D2-D3','D3-D4',\"A1-B1\",\"A2-B2\",\"A3-B3\",\"B1-C1\",\"B2-C2\",\"B3-C3\",\"C1-D1\",\"C2-D2\",\"C3-D3\"\n",
                "\n",
                "################   END Configs  ################\n",
                "\n",
                "event_df, bookmark_df = core.load_events(case_id, outputs=['epsys_events', 'epsys_RFs'])\n",
                "\n",
                "pconfigs = {\n",
                "    \"signals_plot\": plot_configs,\n",
                "    \"delineate_by\": \"RF\",\n",
                "    \"delineation_ids\": nbu.parse_rf_str(rfs) if rfs else bookmark_df[\"RF\"].tolist(),\n",
                "}\n",
                "\n",
                "_ = sd.plot_undecorated_signals(case_id, pconfigs, event_df)"
            ]
        },
        {
            "attachments": {},
            "cell_type": "markdown",
            "metadata": {},
            "source": [
                "#### P1.1.2.2 Plot by Time"
            ]
        },
        {
            "cell_type": "code",
            "execution_count": null,
            "metadata": {},
            "outputs": [],
            "source": [
                "times = \"12:45:10|after|8\"   # \"11:20:01, 11:22:12|before|12, 11:33:13|after|20\"\n",
                "step = 10\n",
                "\n",
                "plot_configs = {\n",
                "    \"width\": 40,  # adjust plot width\n",
                "    \"height\": 10,      # adjust plot height\n",
                "    \"prepend_seconds\": 0,\n",
                "    \"append_seconds\": 10,\n",
                "    \"y_scale\": 2,     # adjust the spacing of traces within a plot\n",
                "    \"suppress_channels\": [],  # list channels which should not appear in the plot\n",
                "}\n",
                "# 'V2','V3','V4','V5','V6'\n",
                "# 'CS_9-10','CS_7-8','CS_5-6','CS_3-4','CS_1-2','PA_1-2','PA_3-4','PB_5-6','PB_7-8','PC_9-10','PC_11-12','PD_13-14','PD_15-16','PE_17-18','PE_19-20'\n",
                "# 'HRA_9-10','HRA_7-8','HRA_5-6','HRA_3-4','HRA_1-2'\n",
                "# 'PA_1-2','PA_3-4','PB_5-6','PB_7-8','PC_9-10','PC_11-12','PD_13-14','PD_15-16','PE_17-18','PE_19-20'\n",
                "# 'A1-A2','A2-A3','A3-A4','B1-B2','B2-B3','B3-B4','C1-C2','C2-C3','C3-C4','D1-D2','D2-D3','D3-D4',\"A1-B1\",\"A2-B2\",\"A3-B3\",\"B1-C1\",\"B2-C2\",\"B3-C3\",\"C1-D1\",\"C2-D2\",\"C3-D3\"\n",
                "\n",
                "################   END Configs  ################\n",
                "\n",
                "pconfigs = {\n",
                "    \"signals_plot\": plot_configs,\n",
                "    \"delineate_by\": \"TIME\",\n",
                "    \"delineation_ids\": nbu.parse_user_times(times, step),\n",
                "}\n",
                "\n",
                "_ = sd.plot_undecorated_signals(case_id, pconfigs)"
            ]
        }
    ],
    "metadata": {
        "kernelspec": {
            "display_name": "Python 3.10.1 ('.venv': venv)",
            "language": "python",
            "name": "python3"
        },
        "language_info": {
            "codemirror_mode": {
                "name": "ipython",
                "version": 3
            },
            "file_extension": ".py",
            "mimetype": "text/x-python",
            "name": "python",
            "nbconvert_exporter": "python",
            "pygments_lexer": "ipython3",
            "version": "3.12.3"
        },
        "vscode": {
            "interpreter": {
                "hash": "629ad31e2472c2313d656605151452599ba0f71480df21ac6b89d5fc91a6a977"
            }
        }
    },
    "nbformat": 4,
    "nbformat_minor": 2
}
